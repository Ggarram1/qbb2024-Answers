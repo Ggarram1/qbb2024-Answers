{
 "cells": [
  {
   "cell_type": "code",
   "execution_count": 22,
   "metadata": {},
   "outputs": [],
   "source": [
    "import sys\n",
    "import numpy\n",
    "import scipy"
   ]
  },
  {
   "cell_type": "code",
   "execution_count": 23,
   "metadata": {},
   "outputs": [
    {
     "name": "stdout",
     "output_type": "stream",
     "text": [
      "300000\n"
     ]
    }
   ],
   "source": [
    "#1.1 \n",
    "genome_size = 1000000\n",
    "read_length = 100\n",
    "coverage = 30\n",
    "num_reads = genome_size * coverage // read_length\n",
    "print(num_reads)"
   ]
  },
  {
   "cell_type": "code",
   "execution_count": 24,
   "metadata": {},
   "outputs": [],
   "source": [
    "#1.2\n",
    "#make 1M array with zeros\n",
    "coverage_array = numpy.zeros(genome_size, dtype = int)\n",
    "# [0, 0, 0, 0, ....]\n",
    "# 1   2  3  4  .....\n",
    "#generate 1M random integers between 1 and 1,000,000"
   ]
  },
  {
   "cell_type": "code",
   "execution_count": 25,
   "metadata": {},
   "outputs": [
    {
     "name": "stdout",
     "output_type": "stream",
     "text": [
      "999901\n",
      "300000\n",
      "[128037 491755 470924 791624 491263 836489 371403  73349 117583  21440]\n"
     ]
    }
   ],
   "source": [
    "highest_start_position = genome_size - read_length + 1\n",
    "print(highest_start_position)\n",
    "numpy.random.seed(1)\n",
    "starting_positions = numpy.random.randint(low = 0, high = highest_start_position, size = num_reads)\n",
    "print(len(starting_positions))\n",
    "print(starting_positions[0:10])"
   ]
  },
  {
   "cell_type": "code",
   "execution_count": 26,
   "metadata": {},
   "outputs": [
    {
     "name": "stdout",
     "output_type": "stream",
     "text": [
      "[0 0 0 ... 1 1 0]\n"
     ]
    }
   ],
   "source": [
    "\n",
    "#count the number of reads at each different location\n",
    "# Loop through each starting position\n",
    "# Increment the \"count\" for all the positions at that starting position up to the read length, in the coverage_array\n",
    "for position in starting_positions:\n",
    "    # pos = 11\n",
    "    coverage_array[position:position+read_length] += 1\n",
    "\n",
    "print(coverage_array)"
   ]
  },
  {
   "cell_type": "code",
   "execution_count": 27,
   "metadata": {},
   "outputs": [
    {
     "data": {
      "text/plain": [
       "55"
      ]
     },
     "execution_count": 27,
     "metadata": {},
     "output_type": "execute_result"
    }
   ],
   "source": [
    "max(coverage_array)"
   ]
  },
  {
   "cell_type": "code",
   "execution_count": 28,
   "metadata": {},
   "outputs": [],
   "source": [
    "numpy.savetxt('coverage_30x.txt', coverage_array, fmt='%d', delimiter='\\n')"
   ]
  },
  {
   "cell_type": "code",
   "execution_count": null,
   "metadata": {},
   "outputs": [],
   "source": []
  }
 ],
 "metadata": {
  "kernelspec": {
   "display_name": "qb24",
   "language": "python",
   "name": "python3"
  },
  "language_info": {
   "codemirror_mode": {
    "name": "ipython",
    "version": 3
   },
   "file_extension": ".py",
   "mimetype": "text/x-python",
   "name": "python",
   "nbconvert_exporter": "python",
   "pygments_lexer": "ipython3",
   "version": "3.12.3"
  }
 },
 "nbformat": 4,
 "nbformat_minor": 2
}
